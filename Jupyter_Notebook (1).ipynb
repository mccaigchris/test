import requests
from PIL import Image
from io import BytesIO
import random

# Set up the API endpoint and parameters
url = "https://pixabay.com/api/"
params = {
    "key": "35169596-262d453953ff7dc2d81f4fe96",
    "q": "mountains",
    "image_type": "photo",
    "per_page": 10
}

# Send the API request and get the results
response = requests.get(url, params=params)
data = response.json()

# Extract the image URLs from the results
image_urls = [hit["webformatURL"] for hit in data["hits"]]

# Open the main image
main_image = Image.open("path/to/main/image.jpg")

# Define the size and location of the animal images
animal_size = (100, 100)
animal_locations = [(50, 50), (150, 50), (250, 50), (50, 150), (150, 150),
                    (250, 150), (50, 250), (150, 250), (250, 250), (350, 250)]

# Paste the animal images onto the main image
for i, animal_url in enumerate(image_urls):
    # Download the animal image from the URL
    response = requests.get(animal_url)
    animal_image = Image.open(BytesIO(response.content))
    animal_image = animal_image.resize(animal_size)
    location = animal_locations[i]
    main_image.paste(animal_image, location)

# Save the modified image
main_image.save("path/to/new/image.jpg")
